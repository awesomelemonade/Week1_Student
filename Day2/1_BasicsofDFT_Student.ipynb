{
 "cells": [
  {
   "cell_type": "markdown",
   "metadata": {
    "code_folding": [
     0,
     11
    ]
   },
   "source": [
    "# Fourier Work\n",
    "The following are exercises that are based on the discussion of Fourier transforms in Mark Newman's Computational Physics book."
   ]
  },
  {
   "cell_type": "markdown",
   "metadata": {},
   "source": [
    "## 1) Basics of DFTs"
   ]
  },
  {
   "cell_type": "code",
   "execution_count": null,
   "metadata": {
    "collapsed": true
   },
   "outputs": [],
   "source": [
    "import numpy as np\n",
    "%matplotlib notebook\n",
    "import matplotlib.pyplot as plt"
   ]
  },
  {
   "cell_type": "markdown",
   "metadata": {},
   "source": [
    "1.1 Write a function that performs a discrete Fourier Transform on a *real-valued* signal containing $N$ samples."
   ]
  },
  {
   "cell_type": "code",
   "execution_count": null,
   "metadata": {
    "code_folding": [],
    "collapsed": true
   },
   "outputs": [],
   "source": [
    "# 1.1 SOLUTION\n",
    "# pure python\n"
   ]
  },
  {
   "cell_type": "markdown",
   "metadata": {},
   "source": [
    "Consider the sine-wave with frequency $f$.\n",
    "\n",
    "\\begin{equation}\n",
    "f(t) = sin(2 \\pi f t)\n",
    "\\end{equation}\n",
    "\n",
    "Let's assume that $f = \\frac{1}{150}$ Hz (recall: Hz is (1 / seconds)). Thus the period of the wave is $T = 1/f = 150$ seconds.\n",
    "\n",
    "1.2 Using Euler's formula, write this sine wave in the form of a Fourier series.\n",
    "> 1.2 Solution:\n",
    "\n",
    "\n",
    "1.3 Take $N$ samples of this sine wave over four complete periods of oscillation. That is, at $t_{n} = \\frac{n}{N}L$; for $n = 0, 1, ... N-1$, where $L = 4T$."
   ]
  },
  {
   "cell_type": "code",
   "execution_count": null,
   "metadata": {
    "collapsed": true
   },
   "outputs": [],
   "source": [
    "#1.3 SOLUTION\n"
   ]
  },
  {
   "cell_type": "markdown",
   "metadata": {},
   "source": [
    "1.4 Plot the sampled signal, $y_{n}$. Using the code\n",
    "\n",
    "```python\n",
    "fig, ax = plt.subplots()\n",
    "ax.plot(t, samples, marker='x')\n",
    "ax.grid()\n",
    "ax.set_xlabel(\"t (seconds)\")\n",
    "```"
   ]
  },
  {
   "cell_type": "code",
   "execution_count": null,
   "metadata": {},
   "outputs": [],
   "source": [
    "# 1.4 SOLUTION\n"
   ]
  },
  {
   "cell_type": "markdown",
   "metadata": {
    "code_folding": [
     11
    ]
   },
   "source": [
    "1.5 Perform a real-valued DFT of the sampled wave-form, obtaining $c_{k}$. How many Fourier-coefficients will be produced? Verify that numpy's FFT (for real-valued signals), `np.fft.rfft`, returns the same results. Use the function `numpy.allclose`."
   ]
  },
  {
   "cell_type": "code",
   "execution_count": null,
   "metadata": {},
   "outputs": [],
   "source": [
    "# 1.5 Solution\n"
   ]
  },
  {
   "cell_type": "markdown",
   "metadata": {},
   "source": [
    "1.6 $k$ takes on integer values: $0, 1, ..., N//2 + 1$. Convert $k$ into frequency, $\\nu_{k}$, with units of Hz. \n",
    "\n",
    "Similarly, $n$ takes on integer values: $0, 1, ..., N$. Convert $n$ into time, $t_{n}$, with units of seconds.\n",
    "\n",
    "> 1.6 Solution: "
   ]
  },
  {
   "cell_type": "code",
   "execution_count": null,
   "metadata": {
    "collapsed": true
   },
   "outputs": [],
   "source": [
    "# 1.6 SOLUTION\n"
   ]
  },
  {
   "cell_type": "markdown",
   "metadata": {},
   "source": [
    "1.7 What should the plot of $|c_{k}|$ vs $\\nu_{k}$,  look like, given the data we took the DFT of?"
   ]
  },
  {
   "cell_type": "markdown",
   "metadata": {},
   "source": [
    "1.8 Plot $|c_{k}|$ vs $\\nu_{k}$ along with a vertical line, where you predict the peak to occur. Use the following pseudocode to help you with your plot:\n",
    "\n",
    "```python\n",
    "fig, ax = plt.subplots()\n",
    "signal_freq = 1/150\n",
    "\n",
    "ax.plot(???, ???)  # plot ck vs vk\n",
    "\n",
    "ax.vlines(signal_freq, 0, 50)  # plots a vertical line at the frequency corresponding to our sine wave\n",
    "\n",
    "# make the plot look nice\n",
    "ax.set_xlim(0, 0.03)\n",
    "ax.grid(True)\n",
    "ax.set_ylabel(r\"$| c_{k} |$\")\n",
    "ax.set_xlabel(\"Frequency (Hz)\");\n",
    "```"
   ]
  },
  {
   "cell_type": "code",
   "execution_count": null,
   "metadata": {},
   "outputs": [],
   "source": [
    "# 1.8 SOLUTION"
   ]
  },
  {
   "cell_type": "markdown",
   "metadata": {},
   "source": [
    "Assume that this peak-valued coefficient, $c_{p}$, is the only non-zero coefficient. In reality there are a few very small, but non-zero coefficients in its vicinity.\n",
    "\n",
    "Given the Fourier series that you wrote above, and the equation for the DFT, see that the following relation must hold\n",
    "\\begin{equation}\n",
    "\\frac{1}{2i}e^{i 2 \\pi f t} + \\frac{-1}{2i}e^{-i 2 \\pi f t} \\approx \\frac{1}{N}(c_{p}e^{i 2 \\pi f t} + c^{*}_{p}e^{-i 2 \\pi f t})\n",
    "\\end{equation}\n",
    "\n",
    "That is, see that $\\frac{c_{p}}{N} \\approx \\frac{1}{2i}$\n",
    "\n",
    "1.8 Verify that $\\frac{c_{p}}{N} \\approx \\frac{1}{2i}$"
   ]
  },
  {
   "cell_type": "code",
   "execution_count": null,
   "metadata": {},
   "outputs": [],
   "source": [
    "# 1.8 SOLUTION\n"
   ]
  },
  {
   "cell_type": "markdown",
   "metadata": {},
   "source": [
    "Recall that the DFT expression on the right exactly reproduces the *sampled* data, and not the exact sine-wave. Furthermore, there are other small, but non-zero coefficients from our DFT that we are ignoring. This is why the equality is only approximate. Try increasing $N$, and see that this improves the precision of the equality.\n",
    "\n",
    "1.9 Using the approximate expression on the right, write a function that performs an inverse DFT in order to recover the sampled data, $y_{n}$."
   ]
  },
  {
   "cell_type": "code",
   "execution_count": null,
   "metadata": {
    "collapsed": true
   },
   "outputs": [],
   "source": [
    "# 1.9 SOLUTION\n"
   ]
  },
  {
   "cell_type": "markdown",
   "metadata": {},
   "source": [
    "1.10 Plot the recovered sampled data and the original data. Once again, note that we are making an approximation in this inverse DFT, since we are only using the peak-valued coefficient. If we utilized all of the coefficients, the resampled data would match **exactly** with the sampled data."
   ]
  },
  {
   "cell_type": "code",
   "execution_count": null,
   "metadata": {
    "scrolled": false
   },
   "outputs": [],
   "source": [
    "# 1.10 SOLUTION\n"
   ]
  },
  {
   "cell_type": "markdown",
   "metadata": {},
   "source": [
    "1.11 Use `np.fft.irfft` to compute the *exact* inverse DFT and verify that it recovers the original sampled data."
   ]
  },
  {
   "cell_type": "code",
   "execution_count": null,
   "metadata": {},
   "outputs": [],
   "source": [
    "# 1.11\n"
   ]
  },
  {
   "cell_type": "markdown",
   "metadata": {},
   "source": [
    "1.12 Return to the \"Audio Signals Basics\" notebook and copy the code that you used to sample and plot the major triad:\n",
    " - 523.25 Hz (C)\n",
    " - 659.25 Hz (E)\n",
    " - 783.99 Hz (G)"
   ]
  },
  {
   "cell_type": "markdown",
   "metadata": {},
   "source": [
    "Sample 0.5 seconds of this analog signal using a sample rate of 2000 Hz. Take the discrete Fourier transform of the resulting digital signal. Plot the magnitudes of the Fourier coefficients as a function of frequency: $|c_{k}|$ vs $\\nu_{k}$. What are the significance of the peaks that you see? What information does this plot provide us with that a plot of the wave form wouldn't?\n",
    "\n",
    "Use `ax.set_xlim(400, 1000)` to limit the x-values plotted to be between 400Hz and 1000Hz."
   ]
  },
  {
   "cell_type": "code",
   "execution_count": null,
   "metadata": {},
   "outputs": [],
   "source": [
    "# 1.12 SOLUTION\n"
   ]
  }
 ],
 "metadata": {
  "kernelspec": {
   "display_name": "Python 3",
   "language": "python",
   "name": "python3"
  },
  "language_info": {
   "codemirror_mode": {
    "name": "ipython",
    "version": 3
   },
   "file_extension": ".py",
   "mimetype": "text/x-python",
   "name": "python",
   "nbconvert_exporter": "python",
   "pygments_lexer": "ipython3",
   "version": "3.6.5"
  }
 },
 "nbformat": 4,
 "nbformat_minor": 2
}
