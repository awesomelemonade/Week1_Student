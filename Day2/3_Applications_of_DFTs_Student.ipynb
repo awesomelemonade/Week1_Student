{
 "cells": [
  {
   "cell_type": "markdown",
   "metadata": {},
   "source": [
    "## 3. Applications of DFTs\n",
    "**The following are exercises from Chapter 7 of Mark Newman's Computational Physics book.**\n",
    "\n",
    "3.1 Read in the `sunspots.txt` data as a 2D array. There are two columns of numbers (separated by tabs). The first column is the number of the recorded month. The second is the number of sunspots recorded in that month. \n",
    "\n",
    "Use the following code to read in this data:\n",
    "\n",
    "```python\n",
    "with open(\"data/sunspots.txt\", \"r\") as F:\n",
    "    # column-0: month number\n",
    "    # column-1: count of sunspots that month\n",
    "    data = np.asanyarray([[float(i) for i in j.split('\\t')] for j in F])\n",
    "    \n",
    "```\n",
    "\n",
    "Plot this data with labeled axes"
   ]
  },
  {
   "cell_type": "code",
   "execution_count": null,
   "metadata": {
    "collapsed": true
   },
   "outputs": [],
   "source": [
    "import numpy as np\n",
    "%matplotlib notebook\n",
    "import matplotlib.pyplot as plt"
   ]
  },
  {
   "cell_type": "markdown",
   "metadata": {},
   "source": [
    "### Sunspot Data Analysis "
   ]
  },
  {
   "cell_type": "code",
   "execution_count": null,
   "metadata": {
    "collapsed": true
   },
   "outputs": [],
   "source": [
    "# 3.1 SOLUTION\n"
   ]
  },
  {
   "cell_type": "code",
   "execution_count": null,
   "metadata": {},
   "outputs": [],
   "source": []
  },
  {
   "cell_type": "markdown",
   "metadata": {},
   "source": [
    "Estimate the frequency of the slowly-oscillating patten in the data, which separates the major peaks. \n",
    "> Solution:"
   ]
  },
  {
   "cell_type": "markdown",
   "metadata": {},
   "source": [
    "3.2 Take a DFT of this real-valued data and consult the power spectrum, $|c_{k}|^{2}$ vs $\\nu_{k}$, to evaluate the periodicity of the data. Squaring the coefficient magnitudes helps to accentuate that features that we would like to study for this particular data."
   ]
  },
  {
   "cell_type": "code",
   "execution_count": null,
   "metadata": {},
   "outputs": [],
   "source": [
    "# 3.2 SOLUTION\n"
   ]
  },
  {
   "cell_type": "markdown",
   "metadata": {},
   "source": [
    "3.3 What is the cause of the large peak at $k = 0$? Study the form of the equation for the Fourier transform, specifically for $c_{k=0}$. What is the simple relationship between $c_{k=0}$ and the data ${y_{n}}$?\n",
    "Adjust the sunspot data so that $c_{k=0} \\approx= 0$ when you take the Fourier transform of this updated data, and plot the power spectrum ($|c_{k}|^{2}$ vs $\\nu_{k}$) of the new data.\n",
    "> 3.3. Solution: "
   ]
  },
  {
   "cell_type": "code",
   "execution_count": null,
   "metadata": {},
   "outputs": [],
   "source": [
    "# 3.3 SOLUTION\n"
   ]
  },
  {
   "cell_type": "markdown",
   "metadata": {},
   "source": [
    "### Analyzing Audio Signals from Instruments"
   ]
  },
  {
   "cell_type": "markdown",
   "metadata": {},
   "source": [
    "3.4 Read in the digital audio signal for a trumpet, from `data/trumpet.txt`, as an array of integers. This signal was recorded at a rate of 44.1 kHz, which is the defacto standard for audio sampling (as implemented by Sony).\n",
    "\n",
    "You can read in the digital samples with the code:\n",
    "\n",
    "```python\n",
    "with open(\"data/trumpet.txt\", 'r') as R:\n",
    "    # each sample is written to a single line in the text file\n",
    "    # this reads them in as a single integer-valued numpy array\n",
    "    data = np.asarray([int(i) for i in R])\n",
    "```\n",
    "\n",
    "Plot the signal on an x-axis labeled `\"Time (sec)\"` - be sure that the axis is scaled appropriately such that it reflects units of seconds. There is too much data to be plotted - plot every 100th datapoint. Then, play the audio using\n",
    "\n",
    "```python\n",
    "from IPython.display import Audio\n",
    "Audio(data, rate=???)\n",
    "```"
   ]
  },
  {
   "cell_type": "code",
   "execution_count": null,
   "metadata": {},
   "outputs": [],
   "source": [
    "# 3.4 SOLUTION\n"
   ]
  },
  {
   "cell_type": "code",
   "execution_count": null,
   "metadata": {},
   "outputs": [],
   "source": []
  },
  {
   "cell_type": "markdown",
   "metadata": {},
   "source": [
    "3.5 Plot the frequency spectrum, $|c_{k}|$ vs $\\nu_{k}$, for the first 10,000 $k$-values. Be sure to use a FFT for real-valued data - we are working with a lot of data. [What notes are being played](http://www.phy.mtu.edu/~suits/notefreqs.html)? Make sure that the $k$-axis of your spectrum is scaled to be in Hz.\n",
    "\n",
    "Plot $|c_{k}|$ on a log-scale."
   ]
  },
  {
   "cell_type": "code",
   "execution_count": null,
   "metadata": {},
   "outputs": [],
   "source": []
  },
  {
   "cell_type": "markdown",
   "metadata": {},
   "source": [
    "Let's try manipulating this audio signal. Make a copy of the complex-valued Fourier coefficients to a new array. \n",
    "\n",
    "Find all of the coefficient such that $|c_{k}| > 10^6$ and **set those complex-valued coefficients to 0**. "
   ]
  },
  {
   "cell_type": "code",
   "execution_count": null,
   "metadata": {
    "collapsed": true
   },
   "outputs": [],
   "source": [
    "# SOLUTION"
   ]
  },
  {
   "cell_type": "markdown",
   "metadata": {},
   "source": [
    "Take the inverse Fourier transform (`np.fft.irfft`) of the now-modified set of complex-valued Fourier coefficients. The result of this is a mutated version of the digital trumpet signal. Plot the wave form of this mutated signal against time (seconds). Only plot every 100th point!"
   ]
  },
  {
   "cell_type": "code",
   "execution_count": null,
   "metadata": {},
   "outputs": [],
   "source": [
    "# SOLUTION\n"
   ]
  },
  {
   "cell_type": "markdown",
   "metadata": {},
   "source": [
    "Play the audio from this new sample. Consider what filtering you performed on the Fourier coefficients and how this affected the audio sample. Does this make sense to you? Chat with your neighbors about this. "
   ]
  },
  {
   "cell_type": "code",
   "execution_count": null,
   "metadata": {},
   "outputs": [],
   "source": []
  },
  {
   "cell_type": "markdown",
   "metadata": {},
   "source": [
    "3.6 Repeat this work for the piano audio signal, but be creative with how you mutate its audio."
   ]
  },
  {
   "cell_type": "code",
   "execution_count": null,
   "metadata": {},
   "outputs": [],
   "source": [
    "# 3.6 SOLUTION \n"
   ]
  },
  {
   "cell_type": "code",
   "execution_count": null,
   "metadata": {},
   "outputs": [],
   "source": []
  },
  {
   "cell_type": "code",
   "execution_count": null,
   "metadata": {},
   "outputs": [],
   "source": [
    "# SOLUTION\n"
   ]
  },
  {
   "cell_type": "markdown",
   "metadata": {},
   "source": [
    "## Smoothing Stock Market Data"
   ]
  },
  {
   "cell_type": "markdown",
   "metadata": {},
   "source": [
    "3.7 Read in the stock market data from `data/dow.txt`. Each data point corresponds to the daily closing value of the Dow Jones Industrial Average (starting in late 2006 and ending in late 2010). Use the following code to read in the data:\n",
    "\n",
    "```python\n",
    "with open(\"data/dow.txt\", 'r') as R:\n",
    "    # Each row of the txt file contains the closing value of the market\n",
    "    # This data is read in as a numpy array of floating point values\n",
    "    data = np.asarray([float(i) for i in R])\n",
    "```\n",
    "\n",
    "Plot the data on labeled axes."
   ]
  },
  {
   "cell_type": "code",
   "execution_count": null,
   "metadata": {},
   "outputs": [],
   "source": [
    "# 3.7 SOLUTION\n"
   ]
  },
  {
   "cell_type": "markdown",
   "metadata": {},
   "source": [
    "3.8 Perform an FFT on this real-valued data, and plot $|c_{k}|$ vs $\\nu_{k}$. The y-axis should be on a log scale. The $\\nu_{k}$-axis should be scaled to be in units of [1 / days]."
   ]
  },
  {
   "cell_type": "code",
   "execution_count": null,
   "metadata": {},
   "outputs": [],
   "source": []
  },
  {
   "cell_type": "markdown",
   "metadata": {},
   "source": [
    "3.9 We want to smooth this stock market data. We can do this by \"removing\" the high-frequency coefficients of its Fourier spectrum. Try zeroing-out the top 90% high-frequency coefficients, and then perform an inverse FFT using these altered coefficients. Plot the \"recovered\" signal on top of a semi-transparent version of the original data (use the plot parameter `alpha=0.5`). Then repeat this, but with zeroing out the top 98% coefficients. In both of these cases, on what scale are the fluctuations being filtered out?\n",
    "> 3.9 Solution. "
   ]
  },
  {
   "cell_type": "code",
   "execution_count": null,
   "metadata": {},
   "outputs": [],
   "source": [
    "# 3.9 SOLUTION\n"
   ]
  },
  {
   "cell_type": "code",
   "execution_count": null,
   "metadata": {},
   "outputs": [],
   "source": [
    "# 3.9 SOLUTION\n"
   ]
  },
  {
   "cell_type": "markdown",
   "metadata": {},
   "source": [
    "3.10 Now repeat this process but zero-out the bottom 10% **low-frequency** coefficients. What do you see? Why is there a huge down-shift in the recovered data (recall the role of $c_{k=0}$)? What would happen if you filtered out the bottom 10% low-frequency coefficients **except** for $c_{0}$? Try this.\n",
    "> 3.10 Solution:"
   ]
  },
  {
   "cell_type": "code",
   "execution_count": null,
   "metadata": {},
   "outputs": [],
   "source": [
    "# 3.10 SOLUTION\n"
   ]
  },
  {
   "cell_type": "code",
   "execution_count": null,
   "metadata": {},
   "outputs": [],
   "source": [
    "# 3.10 SOLUTION\n"
   ]
  }
 ],
 "metadata": {
  "kernelspec": {
   "display_name": "Python 3",
   "language": "python",
   "name": "python3"
  },
  "language_info": {
   "codemirror_mode": {
    "name": "ipython",
    "version": 3
   },
   "file_extension": ".py",
   "mimetype": "text/x-python",
   "name": "python",
   "nbconvert_exporter": "python",
   "pygments_lexer": "ipython3",
   "version": "3.6.5"
  }
 },
 "nbformat": 4,
 "nbformat_minor": 2
}
